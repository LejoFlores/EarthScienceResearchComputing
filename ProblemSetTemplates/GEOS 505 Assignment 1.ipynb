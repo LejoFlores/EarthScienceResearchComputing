{
 "cells": [
  {
   "cell_type": "markdown",
   "metadata": {},
   "source": [
    "# GEOS 505 Assignment 1\n",
    "\n",
    "## Due: Thursday, October 11, 2018\n",
    "\n",
    "### Purpose\n",
    "In this assignment you will demonstrate your emerging research computing competencies by: (1) obtaining some dataset that is relevant to your research or research interests, (2) importing that dataset into Python, (3) creating a visualization of that dataset and describing (in text) what is being shown, and (4) saving and uploading the Jupyter Notebook you created to your Github account.\n",
    "\n",
    "### Instructions\n",
    "Using this Jupyter notebook as a template, you should use a combination of code and Markdown cells to illustrate and describe the workflow you are using to import and visualize your dataset. The prompts below can serve as a roadmap for how this workflow should unfold."
   ]
  },
  {
   "cell_type": "markdown",
   "metadata": {},
   "source": [
    "### 1. Describe the dataset \n",
    "Using words in Markdown, describe that you are importing and state why it is important to your research or research interests. This should include some details about where the data came from and the format in which it is stored"
   ]
  },
  {
   "cell_type": "markdown",
   "metadata": {},
   "source": [
    "### 2. Import the dataset and verify that it is what you expect\n",
    "You should include a detailed description of any cleaning or manipulation done to the data prior to reading it in here, why you needed to do it, and how you did it. You should also include a justification for how you read the data into Python using the command you did. Provide examples of other ways you could have read in the data and discuss why you chose not to use those methods."
   ]
  },
  {
   "cell_type": "code",
   "execution_count": 1,
   "metadata": {},
   "outputs": [],
   "source": [
    "### Python code goes here"
   ]
  },
  {
   "cell_type": "markdown",
   "metadata": {},
   "source": [
    "### 3. Create a visualization of some feature of your dataset\n",
    "Using a standard plotting library, create a visualization of your dataset. Describe, in words, why you are choosing to plot the data the way you are and what you intend to reveal through this visualization. Make sure your plot has a title and that axes are labeled and units are provided."
   ]
  },
  {
   "cell_type": "code",
   "execution_count": 2,
   "metadata": {},
   "outputs": [],
   "source": [
    "### Python code goes here"
   ]
  },
  {
   "cell_type": "markdown",
   "metadata": {},
   "source": [
    "### 4. Describe the visualization you just created\n",
    "As if you were writing a paragraph in a results section of a technical report, peer-reviewed manuscript, or thesis, describe (again, in words) the central idea that this visualization conveys. Describe key features of the data that the outside reviewer should pay attention to. This might include a description of anything unanticipated that you see in the data, or a verification that the visualization shows what you expected to see. "
   ]
  },
  {
   "cell_type": "markdown",
   "metadata": {},
   "source": [
    "### 5. Perform any additional analyses (optional)\n",
    "If you are interested or curious, go beyond this simple visualization to perform any additional statistical analyses on your data, create any additional visualizations, or compute any additional derived variables that may help you and an external reviewer better understand the dataset that you are showing. Use words to describe any additional analyses and why they are relevant."
   ]
  },
  {
   "cell_type": "code",
   "execution_count": 3,
   "metadata": {},
   "outputs": [],
   "source": [
    "### Python code goes here"
   ]
  },
  {
   "cell_type": "markdown",
   "metadata": {},
   "source": [
    "### 6. Upload your Jupyter Notebook to your GitHub account\n",
    "Paste the link to your completed notebook in the class etherpad: https://etherpad.boisestate.edu/p/GEOS-505-FA18"
   ]
  }
 ],
 "metadata": {
  "kernelspec": {
   "display_name": "Python 3",
   "language": "python",
   "name": "python3"
  },
  "language_info": {
   "codemirror_mode": {
    "name": "ipython",
    "version": 3
   },
   "file_extension": ".py",
   "mimetype": "text/x-python",
   "name": "python",
   "nbconvert_exporter": "python",
   "pygments_lexer": "ipython3",
   "version": "3.6.4"
  }
 },
 "nbformat": 4,
 "nbformat_minor": 2
}
