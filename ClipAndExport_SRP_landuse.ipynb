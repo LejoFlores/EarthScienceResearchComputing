{
  "nbformat": 4,
  "nbformat_minor": 0,
  "metadata": {
    "colab": {
      "name": "ClipAndExport_SRP_landuse.ipynb",
      "provenance": [],
      "collapsed_sections": [],
      "authorship_tag": "ABX9TyMufU4v/wOoPgxe5URt6VB1",
      "include_colab_link": true
    },
    "kernelspec": {
      "name": "python3",
      "display_name": "Python 3"
    }
  },
  "cells": [
    {
      "cell_type": "markdown",
      "metadata": {
        "id": "view-in-github",
        "colab_type": "text"
      },
      "source": [
        "<a href=\"https://colab.research.google.com/github/LejoFlores/EarthScienceResearchComputing/blob/master/ClipAndExport_SRP_landuse.ipynb\" target=\"_parent\"><img src=\"https://colab.research.google.com/assets/colab-badge.svg\" alt=\"Open In Colab\"/></a>"
      ]
    },
    {
      "cell_type": "code",
      "metadata": {
        "id": "lXW59yzDnO7X",
        "outputId": "660228c2-dec4-40b2-e6c5-9a2418e8f0d0",
        "colab": {
          "base_uri": "https://localhost:8080/",
          "height": 190
        }
      },
      "source": [
        "# Installs geemap package\n",
        "import subprocess\n",
        "\n",
        "try:\n",
        "    import geemap\n",
        "except ImportError:\n",
        "    print('geemap package not installed. Installing ...')\n",
        "    subprocess.check_call([\"python\", '-m', 'pip', 'install', 'geemap'])\n",
        "\n",
        "# Checks whether this notebook is running on Google Colab\n",
        "try:\n",
        "    import google.colab\n",
        "    import geemap.eefolium as emap\n",
        "except:\n",
        "    import geemap as emap\n",
        "\n",
        "# Authenticates and initializes Earth Engine\n",
        "import ee\n",
        "\n",
        "try:\n",
        "    ee.Initialize()\n",
        "except Exception as e:\n",
        "    ee.Authenticate()\n",
        "    ee.Initialize()  "
      ],
      "execution_count": null,
      "outputs": [
        {
          "output_type": "stream",
          "text": [
            "geemap package not installed. Installing ...\n",
            "To authorize access needed by Earth Engine, open the following URL in a web browser and follow the instructions. If the web browser does not start automatically, please manually browse the URL below.\n",
            "\n",
            "    https://accounts.google.com/o/oauth2/auth?client_id=517222506229-vsmmajv00ul0bs7p89v5m89qs8eb9359.apps.googleusercontent.com&scope=https%3A%2F%2Fwww.googleapis.com%2Fauth%2Fearthengine+https%3A%2F%2Fwww.googleapis.com%2Fauth%2Fdevstorage.full_control&redirect_uri=urn%3Aietf%3Awg%3Aoauth%3A2.0%3Aoob&response_type=code&code_challenge=oLSsmxbR_eisDNh8SQsobwJkpceESc-MtgHyEnlHzcc&code_challenge_method=S256\n",
            "\n",
            "The authorization workflow will generate a code, which you should paste in the box below. \n",
            "Enter verification code: 4/5AGIZw4KObDOIi7Z9xijLVMqrsa3VTFXEnoRyRnoDTXB907ScjzYPiU\n",
            "\n",
            "Successfully saved authorization token.\n"
          ],
          "name": "stdout"
        }
      ]
    },
    {
      "cell_type": "code",
      "metadata": {
        "id": "1igN4o9hd-q3"
      },
      "source": [
        "\n",
        "# Algorithm:\n",
        "# 1. Get counties of interest in Snake River Plain (see table below)\n",
        "# 2. Create a new feature with selected counties\n",
        "# 3. Union the counties, export the counties\n",
        "# 4. Get the NLCD data\n",
        "# 5. Clip to the area of the county\n",
        "# 6. Export \n",
        "\n",
        "#--------------------------------#\n",
        "#   County         |  FIPS code  #\n",
        "#--------------------------------#\n",
        "#   Ada            |   16001     #\n",
        "#   Bannock        |   16005     #\n",
        "#   Bingham        |   16011     #\n",
        "#   Blaine         |   16013     #\n",
        "#   Bonneville     |   16019     #\n",
        "#   Butte          |   16023     #\n",
        "#   Camas          |   16025     #\n",
        "#   Canyon         |   16027     #\n",
        "#   Cassia         |   16031     #\n",
        "#   Clark          |   16033     #\n",
        "#   Elmore         |   16039     #\n",
        "#   Fremont        |   16043     #\n",
        "#   Gem            |   16045     #\n",
        "#   Gooding        |   16047     #\n",
        "#   Jefferson      |   16051     #\n",
        "#   Jerome         |   16053     #\n",
        "#   Lincoln        |   16063     #\n",
        "#   Madison        |   16065     #\n",
        "#   Malheur (OR)   |   41045     #\n",
        "#   Minidoka       |   16067     #\n",
        "#   Owyhee         |   16073     #\n",
        "#   Payette        |   16075     #\n",
        "#   Power          |   16077     #\n",
        "#   Teton          |   16081     #\n",
        "#   Twin Falls     |   16083     #\n",
        "#   Washington     |   16087     #\n",
        "#--------------------------------#\n",
        "\n"
      ],
      "execution_count": null,
      "outputs": []
    },
    {
      "cell_type": "code",
      "metadata": {
        "id": "-Y5-WDb9oHz2",
        "outputId": "6ee4c140-8669-488d-eb5a-ae70366e4ca0",
        "colab": {
          "base_uri": "https://localhost:8080/",
          "height": 796
        }
      },
      "source": [
        "counties = ee.FeatureCollection(\"TIGER/2016/Counties\")\n",
        "\n",
        "\n",
        "srb_countyfp_list = ee.List(['001','005','011','013','019','023','025', \\\n",
        "                             '027','031','033','039','043','045','047', \\\n",
        "                             '051','053','063','065','067','073','075', \\\n",
        "                             '077','081','083','087'])\n",
        "\n",
        "id_srb_cnty = counties.filter(ee.Filter.eq('STATEFP','16')) \\\n",
        "                      .filter(ee.Filter.inList('COUNTYFP', srb_countyfp_list)) \\\n",
        "           \n",
        "or_srb_cnty = counties.filter(ee.Filter.eq('STATEFP','41')) \\\n",
        "                   .filter(ee.Filter.eq('COUNTYFP','045'))\n",
        "\n",
        "srb_cnty = id_srb_cnty.merge(or_srb_cnty)\n",
        "\n",
        "srb_bnd = srb_cnty.union()\n",
        "\n",
        "# Create a new map and add the watershed we will use to clip the EVI data\n",
        "Map = emap.Map(center=(43.6150, -116.2023),zoom=6)\n",
        "\n",
        "Map.addLayer(ee.Image().paint(srb_bnd, 0, 2), {}, 'Snake River Plain')\n",
        "Map.addLayerControl()\n",
        "Map"
      ],
      "execution_count": null,
      "outputs": [
        {
          "output_type": "execute_result",
          "data": {
            "text/html": [
              "<div style=\"width:100%;\"><div style=\"position:relative;width:100%;height:0;padding-bottom:60%;\"><span style=\"color:#565656\">Make this Notebook Trusted to load map: File -> Trust Notebook</span><iframe src=\"about:blank\" style=\"position:absolute;width:100%;height:100%;left:0;top:0;border:none !important;\" data-html=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 onload=\"this.contentDocument.open();this.contentDocument.write(atob(this.getAttribute('data-html')));this.contentDocument.close();\" allowfullscreen webkitallowfullscreen mozallowfullscreen></iframe></div></div>"
            ],
            "text/plain": [
              "<geemap.eefolium.Map at 0x7f6f45f182e8>"
            ]
          },
          "metadata": {
            "tags": []
          },
          "execution_count": 4
        }
      ]
    },
    {
      "cell_type": "code",
      "metadata": {
        "id": "lkTbLMZsoTZo",
        "outputId": "fa6e18fa-7d32-4239-a8d1-b0dd23d9fe8f",
        "colab": {
          "base_uri": "https://localhost:8080/",
          "height": 796
        }
      },
      "source": [
        "dataset = ee.ImageCollection('USGS/NLCD').filterBounds(srb_bnd)\n",
        "srb_landcover = dataset.select('landcover') \\\n",
        "                    .map(lambda image: image.clip(srb_bnd))\n",
        "\n",
        "landcoverVis = {\n",
        "  'min': 0.0,\n",
        "  'max': 95.0,\n",
        "  'palette': ['000000','000000','000000','000000','000000','000000','000000',\n",
        "    '000000','000000','000000','000000','466b9f','d1def8','000000','000000',\n",
        "    '000000','000000','000000','000000','000000','000000','dec5c5','d99282',\n",
        "    'eb0000','ab0000','000000','000000','000000','000000','000000','000000',\n",
        "    'b3ac9f','000000','000000','000000','000000','000000','000000','000000',\n",
        "    '000000','000000','68ab5f','1c5f2c','b5c58f','000000','000000','000000',\n",
        "    '000000','000000','000000','000000','af963c','ccb879','000000','000000',\n",
        "    '000000','000000','000000','000000','000000','000000','000000','000000',\n",
        "    '000000','000000','000000','000000','000000','000000','000000','000000',\n",
        "    'dfdfc2','d1d182','a3cc51','82ba9e','000000','000000','000000','000000',\n",
        "    '000000','000000','dcd939','ab6c28','000000','000000','000000','000000',\n",
        "    '000000','000000','000000','b8d9eb','000000','000000','000000','000000',\n",
        "    '6c9fb8']}\n",
        "\n",
        "Map = emap.Map(center=(43.6150, -116.2023),zoom=8)\n",
        "Map.addLayer(srb_landcover, landcoverVis, 'Landcover')\n",
        "Map\n"
      ],
      "execution_count": null,
      "outputs": [
        {
          "output_type": "execute_result",
          "data": {
            "text/html": [
              "<div style=\"width:100%;\"><div style=\"position:relative;width:100%;height:0;padding-bottom:60%;\"><span style=\"color:#565656\">Make this Notebook Trusted to load map: File -> Trust Notebook</span><iframe src=\"about:blank\" style=\"position:absolute;width:100%;height:100%;left:0;top:0;border:none !important;\" data-html=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 onload=\"this.contentDocument.open();this.contentDocument.write(atob(this.getAttribute('data-html')));this.contentDocument.close();\" allowfullscreen webkitallowfullscreen mozallowfullscreen></iframe></div></div>"
            ],
            "text/plain": [
              "<geemap.eefolium.Map at 0x7f6f45b55be0>"
            ]
          },
          "metadata": {
            "tags": []
          },
          "execution_count": 7
        }
      ]
    },
    {
      "cell_type": "code",
      "metadata": {
        "id": "-V2JfBYgQtcp",
        "outputId": "221b304c-88d1-499a-949c-24d231e1810b",
        "colab": {
          "base_uri": "https://localhost:8080/",
          "height": 309
        }
      },
      "source": [
        "downConfig = {'scale': 30, \"maxPixels\": 1.0E13, 'driveFolder': 'srp-nlcd'}  # scale means resolution.\n",
        "img_lst = srb_landcover.toList(100)\n",
        "\n",
        "count = srb_landcover.size().getInfo()\n",
        "\n",
        "for i in range(0, count):\n",
        "    image = ee.Image(img_lst.get(i))\n",
        "    name = image.get('system:index').getInfo()\n",
        "    print(name)\n",
        "    task = ee.batch.Export.image(image.clip(srb_bnd.geometry()), name, downConfig)\n",
        "    task.start()\n",
        "    print(task.status())"
      ],
      "execution_count": null,
      "outputs": [
        {
          "output_type": "stream",
          "text": [
            "NLCD1992\n",
            "{'state': 'READY', 'description': 'NLCD1992', 'creation_timestamp_ms': 1602450996161, 'update_timestamp_ms': 1602450996161, 'start_timestamp_ms': 0, 'task_type': 'EXPORT_IMAGE', 'id': 'D35E3TPVLPHPIXST7VZDLMRD', 'name': 'projects/earthengine-legacy/operations/D35E3TPVLPHPIXST7VZDLMRD'}\n",
            "NLCD2001\n",
            "{'state': 'READY', 'description': 'NLCD2001', 'creation_timestamp_ms': 1602451018960, 'update_timestamp_ms': 1602451018960, 'start_timestamp_ms': 0, 'task_type': 'EXPORT_IMAGE', 'id': 'UNT7DBP4SQRBURSUVD466POV', 'name': 'projects/earthengine-legacy/operations/UNT7DBP4SQRBURSUVD466POV'}\n",
            "NLCD2004\n",
            "{'state': 'READY', 'description': 'NLCD2004', 'creation_timestamp_ms': 1602451040720, 'update_timestamp_ms': 1602451040720, 'start_timestamp_ms': 0, 'task_type': 'EXPORT_IMAGE', 'id': 'MXGCVL6NHIIBKYX62RCAY43D', 'name': 'projects/earthengine-legacy/operations/MXGCVL6NHIIBKYX62RCAY43D'}\n",
            "NLCD2006\n",
            "{'state': 'READY', 'description': 'NLCD2006', 'creation_timestamp_ms': 1602451059662, 'update_timestamp_ms': 1602451059662, 'start_timestamp_ms': 0, 'task_type': 'EXPORT_IMAGE', 'id': 'VZKJFTVV5752QNBZH72STI33', 'name': 'projects/earthengine-legacy/operations/VZKJFTVV5752QNBZH72STI33'}\n",
            "NLCD2008\n",
            "{'state': 'READY', 'description': 'NLCD2008', 'creation_timestamp_ms': 1602451080766, 'update_timestamp_ms': 1602451080766, 'start_timestamp_ms': 0, 'task_type': 'EXPORT_IMAGE', 'id': '36HN6BTECCZKAVDA7DVPL74T', 'name': 'projects/earthengine-legacy/operations/36HN6BTECCZKAVDA7DVPL74T'}\n",
            "NLCD2011\n",
            "{'state': 'READY', 'description': 'NLCD2011', 'creation_timestamp_ms': 1602451100735, 'update_timestamp_ms': 1602451100735, 'start_timestamp_ms': 0, 'task_type': 'EXPORT_IMAGE', 'id': 'MFF242ZRHLRXGW43ZC32O6ZE', 'name': 'projects/earthengine-legacy/operations/MFF242ZRHLRXGW43ZC32O6ZE'}\n",
            "NLCD2013\n",
            "{'state': 'READY', 'description': 'NLCD2013', 'creation_timestamp_ms': 1602451121272, 'update_timestamp_ms': 1602451121272, 'start_timestamp_ms': 0, 'task_type': 'EXPORT_IMAGE', 'id': 'IBDVDMIQ3MOLZQEFZK5M3TXB', 'name': 'projects/earthengine-legacy/operations/IBDVDMIQ3MOLZQEFZK5M3TXB'}\n",
            "NLCD2016\n",
            "{'state': 'READY', 'description': 'NLCD2016', 'creation_timestamp_ms': 1602451143507, 'update_timestamp_ms': 1602451143507, 'start_timestamp_ms': 0, 'task_type': 'EXPORT_IMAGE', 'id': 'VHMYVOWJI5VC7UR4CGUYWXAS', 'name': 'projects/earthengine-legacy/operations/VHMYVOWJI5VC7UR4CGUYWXAS'}\n"
          ],
          "name": "stdout"
        }
      ]
    },
    {
      "cell_type": "code",
      "metadata": {
        "id": "GoyqJbqaZk1q",
        "outputId": "0b6858cc-5d56-4ff6-a69c-228f0eb7024d",
        "colab": {
          "base_uri": "https://localhost:8080/",
          "height": 153
        }
      },
      "source": [
        "task.status()"
      ],
      "execution_count": null,
      "outputs": [
        {
          "output_type": "execute_result",
          "data": {
            "text/plain": [
              "{'creation_timestamp_ms': 1602451143507,\n",
              " 'description': 'NLCD2016',\n",
              " 'id': 'VHMYVOWJI5VC7UR4CGUYWXAS',\n",
              " 'name': 'projects/earthengine-legacy/operations/VHMYVOWJI5VC7UR4CGUYWXAS',\n",
              " 'start_timestamp_ms': 0,\n",
              " 'state': 'READY',\n",
              " 'task_type': 'EXPORT_IMAGE',\n",
              " 'update_timestamp_ms': 1602451143507}"
            ]
          },
          "metadata": {
            "tags": []
          },
          "execution_count": 17
        }
      ]
    },
    {
      "cell_type": "code",
      "metadata": {
        "id": "ql-y92IAa4-H"
      },
      "source": [
        ""
      ],
      "execution_count": null,
      "outputs": []
    }
  ]
}